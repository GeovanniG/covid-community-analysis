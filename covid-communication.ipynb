{
 "cells": [
  {
   "cell_type": "markdown",
   "metadata": {},
   "source": [
    "# Objective\n",
    "The objective of this notebook to determine the impact effects of covid on the community. Many businesses have temporarily closed due to COVID-19 resulting in less close contact amongst individuals. Thus, I am curious as to how the community is coping with social distancing.  "
   ]
  },
  {
   "cell_type": "code",
   "execution_count": 5,
   "metadata": {},
   "outputs": [],
   "source": [
    "import numpy as np\n",
    "import pandas as pd\n",
    "import matplotlib.pyplot as plt\n",
    "import geopandas\n",
    "import seaborn as sns\n",
    "\n",
    "%matplotlib inline"
   ]
  },
  {
   "cell_type": "code",
   "execution_count": 6,
   "metadata": {},
   "outputs": [],
   "source": [
    "april_covid_impact = pd.read_csv('01_April_30_covid_impact_survey.csv', low_memory=False)\n",
    "may_covid_impact = pd.read_csv('02_May_12_covid_impact_survey.csv', low_memory=False)\n",
    "june_covid_impact = pd.read_csv('03_June_9_covid_impact_survey.csv')"
   ]
  },
  {
   "cell_type": "code",
   "execution_count": 7,
   "metadata": {},
   "outputs": [
    {
     "name": "stdout",
     "output_type": "stream",
     "text": [
      "(8790, 174)\n"
     ]
    },
    {
     "data": {
      "text/html": [
       "<div>\n",
       "<style scoped>\n",
       "    .dataframe tbody tr th:only-of-type {\n",
       "        vertical-align: middle;\n",
       "    }\n",
       "\n",
       "    .dataframe tbody tr th {\n",
       "        vertical-align: top;\n",
       "    }\n",
       "\n",
       "    .dataframe thead th {\n",
       "        text-align: right;\n",
       "    }\n",
       "</style>\n",
       "<table border=\"1\" class=\"dataframe\">\n",
       "  <thead>\n",
       "    <tr style=\"text-align: right;\">\n",
       "      <th></th>\n",
       "      <th>Unnamed: 0</th>\n",
       "      <th>SU_ID</th>\n",
       "      <th>P_PANEL</th>\n",
       "      <th>NATIONAL_WEIGHT</th>\n",
       "      <th>REGION_WEIGHT</th>\n",
       "      <th>NATIONAL_WEIGHT_POP</th>\n",
       "      <th>REGION_WEIGHT_POP</th>\n",
       "      <th>P_GEO</th>\n",
       "      <th>SOC1</th>\n",
       "      <th>SOC2A</th>\n",
       "      <th>...</th>\n",
       "      <th>REGION9</th>\n",
       "      <th>P_DENSE</th>\n",
       "      <th>MODE</th>\n",
       "      <th>LANGUAGE</th>\n",
       "      <th>MAIL50</th>\n",
       "      <th>RACE1_BANNER</th>\n",
       "      <th>RACE2_BANNER</th>\n",
       "      <th>INC_BANNER</th>\n",
       "      <th>AGE_BANNER</th>\n",
       "      <th>HH_BANNER</th>\n",
       "    </tr>\n",
       "  </thead>\n",
       "  <tbody>\n",
       "    <tr>\n",
       "      <td>0</td>\n",
       "      <td>1</td>\n",
       "      <td>20001173</td>\n",
       "      <td>ABS</td>\n",
       "      <td>NaN</td>\n",
       "      <td>1.218648</td>\n",
       "      <td>NaN</td>\n",
       "      <td>41103.599135</td>\n",
       "      <td>New York</td>\n",
       "      <td>(3) Some</td>\n",
       "      <td>(4) Once a month</td>\n",
       "      <td>...</td>\n",
       "      <td>(2) Mid-Atlantic</td>\n",
       "      <td>(3) Urban</td>\n",
       "      <td>(2) Web Interview</td>\n",
       "      <td>(1) English</td>\n",
       "      <td>(3) 4/22/2020</td>\n",
       "      <td>(1) NH white 5</td>\n",
       "      <td>NaN</td>\n",
       "      <td>(1) Less than $30,000</td>\n",
       "      <td>(2) 23-64</td>\n",
       "      <td>(4) 3 or more kids</td>\n",
       "    </tr>\n",
       "    <tr>\n",
       "      <td>1</td>\n",
       "      <td>2</td>\n",
       "      <td>20002089</td>\n",
       "      <td>ABS</td>\n",
       "      <td>NaN</td>\n",
       "      <td>0.228867</td>\n",
       "      <td>NaN</td>\n",
       "      <td>3127.867402</td>\n",
       "      <td>Phoenix-Mesa-Chandler, Arizona</td>\n",
       "      <td>(3) Some</td>\n",
       "      <td>(3) A few times a month</td>\n",
       "      <td>...</td>\n",
       "      <td>(8) Mountain</td>\n",
       "      <td>(3) Urban</td>\n",
       "      <td>(2) Web Interview</td>\n",
       "      <td>(1) English</td>\n",
       "      <td>(2) 4/21/2020</td>\n",
       "      <td>(1) NH white 5</td>\n",
       "      <td>NaN</td>\n",
       "      <td>(4) More than $125k</td>\n",
       "      <td>(3) 65+</td>\n",
       "      <td>(2) +1 other adult only</td>\n",
       "    </tr>\n",
       "    <tr>\n",
       "      <td>2</td>\n",
       "      <td>3</td>\n",
       "      <td>20002704</td>\n",
       "      <td>ABS</td>\n",
       "      <td>NaN</td>\n",
       "      <td>0.251659</td>\n",
       "      <td>NaN</td>\n",
       "      <td>1960.942970</td>\n",
       "      <td>Oregon</td>\n",
       "      <td>(3) Some</td>\n",
       "      <td>(3) A few times a month</td>\n",
       "      <td>...</td>\n",
       "      <td>(9) Pacific</td>\n",
       "      <td>(3) Urban</td>\n",
       "      <td>(2) Web Interview</td>\n",
       "      <td>(1) English</td>\n",
       "      <td>(1) 4/20/2020</td>\n",
       "      <td>(88) Removed for disclosure risk</td>\n",
       "      <td>NaN</td>\n",
       "      <td>(4) More than $125k</td>\n",
       "      <td>(3) 65+</td>\n",
       "      <td>(2) +1 other adult only</td>\n",
       "    </tr>\n",
       "    <tr>\n",
       "      <td>3</td>\n",
       "      <td>4</td>\n",
       "      <td>20002713</td>\n",
       "      <td>ABS</td>\n",
       "      <td>NaN</td>\n",
       "      <td>0.207222</td>\n",
       "      <td>NaN</td>\n",
       "      <td>958.491227</td>\n",
       "      <td>Pittsburgh, Pennsylvania</td>\n",
       "      <td>(3) Some</td>\n",
       "      <td>(2) A few times a week</td>\n",
       "      <td>...</td>\n",
       "      <td>(2) Mid-Atlantic</td>\n",
       "      <td>(3) Urban</td>\n",
       "      <td>(2) Web Interview</td>\n",
       "      <td>(1) English</td>\n",
       "      <td>(1) 4/20/2020</td>\n",
       "      <td>(2) NH black 5</td>\n",
       "      <td>NaN</td>\n",
       "      <td>(3) $60k to less than $125k</td>\n",
       "      <td>(3) 65+</td>\n",
       "      <td>(2) +1 other adult only</td>\n",
       "    </tr>\n",
       "    <tr>\n",
       "      <td>4</td>\n",
       "      <td>5</td>\n",
       "      <td>20003003</td>\n",
       "      <td>ABS</td>\n",
       "      <td>NaN</td>\n",
       "      <td>3.385956</td>\n",
       "      <td>NaN</td>\n",
       "      <td>10720.255694</td>\n",
       "      <td>Cleveland-Elyria, Ohio</td>\n",
       "      <td>(3) Some</td>\n",
       "      <td>(1) Basically every day</td>\n",
       "      <td>...</td>\n",
       "      <td>(3) East North Central</td>\n",
       "      <td>(3) Urban</td>\n",
       "      <td>(2) Web Interview</td>\n",
       "      <td>(1) English</td>\n",
       "      <td>(1) 4/20/2020</td>\n",
       "      <td>(1) NH white 5</td>\n",
       "      <td>NaN</td>\n",
       "      <td>(3) $60k to less than $125k</td>\n",
       "      <td>(3) 65+</td>\n",
       "      <td>(2) +1 other adult only</td>\n",
       "    </tr>\n",
       "  </tbody>\n",
       "</table>\n",
       "<p>5 rows × 174 columns</p>\n",
       "</div>"
      ],
      "text/plain": [
       "   Unnamed: 0     SU_ID P_PANEL  NATIONAL_WEIGHT  REGION_WEIGHT  \\\n",
       "0           1  20001173     ABS              NaN       1.218648   \n",
       "1           2  20002089     ABS              NaN       0.228867   \n",
       "2           3  20002704     ABS              NaN       0.251659   \n",
       "3           4  20002713     ABS              NaN       0.207222   \n",
       "4           5  20003003     ABS              NaN       3.385956   \n",
       "\n",
       "   NATIONAL_WEIGHT_POP  REGION_WEIGHT_POP                           P_GEO  \\\n",
       "0                  NaN       41103.599135                        New York   \n",
       "1                  NaN        3127.867402  Phoenix-Mesa-Chandler, Arizona   \n",
       "2                  NaN        1960.942970                          Oregon   \n",
       "3                  NaN         958.491227        Pittsburgh, Pennsylvania   \n",
       "4                  NaN       10720.255694          Cleveland-Elyria, Ohio   \n",
       "\n",
       "       SOC1                    SOC2A  ...                 REGION9    P_DENSE  \\\n",
       "0  (3) Some         (4) Once a month  ...        (2) Mid-Atlantic  (3) Urban   \n",
       "1  (3) Some  (3) A few times a month  ...            (8) Mountain  (3) Urban   \n",
       "2  (3) Some  (3) A few times a month  ...             (9) Pacific  (3) Urban   \n",
       "3  (3) Some   (2) A few times a week  ...        (2) Mid-Atlantic  (3) Urban   \n",
       "4  (3) Some  (1) Basically every day  ...  (3) East North Central  (3) Urban   \n",
       "\n",
       "                MODE     LANGUAGE         MAIL50  \\\n",
       "0  (2) Web Interview  (1) English  (3) 4/22/2020   \n",
       "1  (2) Web Interview  (1) English  (2) 4/21/2020   \n",
       "2  (2) Web Interview  (1) English  (1) 4/20/2020   \n",
       "3  (2) Web Interview  (1) English  (1) 4/20/2020   \n",
       "4  (2) Web Interview  (1) English  (1) 4/20/2020   \n",
       "\n",
       "                       RACE1_BANNER RACE2_BANNER                   INC_BANNER  \\\n",
       "0                    (1) NH white 5          NaN        (1) Less than $30,000   \n",
       "1                    (1) NH white 5          NaN          (4) More than $125k   \n",
       "2  (88) Removed for disclosure risk          NaN          (4) More than $125k   \n",
       "3                    (2) NH black 5          NaN  (3) $60k to less than $125k   \n",
       "4                    (1) NH white 5          NaN  (3) $60k to less than $125k   \n",
       "\n",
       "  AGE_BANNER                HH_BANNER  \n",
       "0  (2) 23-64       (4) 3 or more kids  \n",
       "1    (3) 65+  (2) +1 other adult only  \n",
       "2    (3) 65+  (2) +1 other adult only  \n",
       "3    (3) 65+  (2) +1 other adult only  \n",
       "4    (3) 65+  (2) +1 other adult only  \n",
       "\n",
       "[5 rows x 174 columns]"
      ]
     },
     "execution_count": 7,
     "metadata": {},
     "output_type": "execute_result"
    }
   ],
   "source": [
    "print(april_covid_impact.shape)\n",
    "april_covid_impact.head()"
   ]
  },
  {
   "cell_type": "markdown",
   "metadata": {},
   "source": [
    "---"
   ]
  },
  {
   "cell_type": "markdown",
   "metadata": {},
   "source": [
    "# Representative\n",
    "Is the data representative of the United States population, or is it only representative of the subjects it surveys?"
   ]
  },
  {
   "cell_type": "code",
   "execution_count": 8,
   "metadata": {},
   "outputs": [
    {
     "name": "stdout",
     "output_type": "stream",
     "text": [
      "['New York' 'Phoenix-Mesa-Chandler, Arizona' 'Oregon'\n",
      " 'Pittsburgh, Pennsylvania' 'Cleveland-Elyria, Ohio' 'Florida'\n",
      " 'Chicago-Naperville-Elgin, Illinois-Indiana-Wisconsin' 'Montana'\n",
      " 'Louisiana' 'Colorado' 'Texas' 'Missouri' 'Birmingham-Hoover, Alabama'\n",
      " 'Columbus, Ohio' 'Baltimore-Columbia-Towson, Maryland'\n",
      " 'Atlanta-Sandy Springs-Alpharetta, Georgia' 'California' 'Minnesota' nan]\n",
      "18\n"
     ]
    },
    {
     "data": {
      "text/html": [
       "<div>\n",
       "<style scoped>\n",
       "    .dataframe tbody tr th:only-of-type {\n",
       "        vertical-align: middle;\n",
       "    }\n",
       "\n",
       "    .dataframe tbody tr th {\n",
       "        vertical-align: top;\n",
       "    }\n",
       "\n",
       "    .dataframe thead th {\n",
       "        text-align: right;\n",
       "    }\n",
       "</style>\n",
       "<table border=\"1\" class=\"dataframe\">\n",
       "  <thead>\n",
       "    <tr style=\"text-align: right;\">\n",
       "      <th></th>\n",
       "      <th>City</th>\n",
       "      <th>Country</th>\n",
       "      <th>Latitude</th>\n",
       "      <th>Longitude</th>\n",
       "      <th>geometry</th>\n",
       "    </tr>\n",
       "  </thead>\n",
       "  <tbody>\n",
       "    <tr>\n",
       "      <td>0</td>\n",
       "      <td>New York</td>\n",
       "      <td>United States of America</td>\n",
       "      <td>40.712776</td>\n",
       "      <td>-74.005974</td>\n",
       "      <td>POINT (-74.00597 40.71278)</td>\n",
       "    </tr>\n",
       "    <tr>\n",
       "      <td>1</td>\n",
       "      <td>Phoenix-Mesa-Chandler, Arizona</td>\n",
       "      <td>United States of America</td>\n",
       "      <td>33.306160</td>\n",
       "      <td>-111.841250</td>\n",
       "      <td>POINT (-111.84125 33.30616)</td>\n",
       "    </tr>\n",
       "    <tr>\n",
       "      <td>2</td>\n",
       "      <td>Oregon</td>\n",
       "      <td>United States of America</td>\n",
       "      <td>43.804133</td>\n",
       "      <td>-120.554201</td>\n",
       "      <td>POINT (-120.55420 43.80413)</td>\n",
       "    </tr>\n",
       "    <tr>\n",
       "      <td>3</td>\n",
       "      <td>Pittsburgh, Pennsylvania</td>\n",
       "      <td>United States of America</td>\n",
       "      <td>40.440625</td>\n",
       "      <td>-79.995886</td>\n",
       "      <td>POINT (-79.99589 40.44062)</td>\n",
       "    </tr>\n",
       "    <tr>\n",
       "      <td>4</td>\n",
       "      <td>Cleveland-Elyria, Ohio</td>\n",
       "      <td>United States of America</td>\n",
       "      <td>41.368380</td>\n",
       "      <td>-82.107649</td>\n",
       "      <td>POINT (-82.10765 41.36838)</td>\n",
       "    </tr>\n",
       "  </tbody>\n",
       "</table>\n",
       "</div>"
      ],
      "text/plain": [
       "                             City                   Country   Latitude  \\\n",
       "0                        New York  United States of America  40.712776   \n",
       "1  Phoenix-Mesa-Chandler, Arizona  United States of America  33.306160   \n",
       "2                          Oregon  United States of America  43.804133   \n",
       "3        Pittsburgh, Pennsylvania  United States of America  40.440625   \n",
       "4          Cleveland-Elyria, Ohio  United States of America  41.368380   \n",
       "\n",
       "    Longitude                     geometry  \n",
       "0  -74.005974   POINT (-74.00597 40.71278)  \n",
       "1 -111.841250  POINT (-111.84125 33.30616)  \n",
       "2 -120.554201  POINT (-120.55420 43.80413)  \n",
       "3  -79.995886   POINT (-79.99589 40.44062)  \n",
       "4  -82.107649   POINT (-82.10765 41.36838)  "
      ]
     },
     "execution_count": 8,
     "metadata": {},
     "output_type": "execute_result"
    }
   ],
   "source": [
    "sample = pd.concat([april_covid_impact, may_covid_impact, june_covid_impact], ignore_index=True, sort=False)\n",
    "print(sample['P_GEO'].unique())\n",
    "print(sample['P_GEO'].nunique())\n",
    "\n",
    "coordinates = {\n",
    "    'New York': [40.712776,-74.005974], \n",
    "    'Phoenix-Mesa-Chandler, Arizona': [33.30616,-111.84125],\n",
    "    'Oregon': [43.804133,-120.554201],\n",
    "    'Pittsburgh, Pennsylvania': [40.440625,-79.995886],\n",
    "    'Cleveland-Elyria, Ohio':[41.36838,-82.107649], \n",
    "    'Florida': [27.664827,-81.515753 ],\n",
    "    'Chicago-Naperville-Elgin, Illinois-Indiana-Wisconsin': [ 41.189757,-87.526146],\n",
    "    'Montana': [46.879682,-110.362566],\n",
    "    'Louisiana': [30.984298,-91.962333],\n",
    "    'Colorado': [39.550051,-105.782067], \n",
    "    'Texas': [31.968599,-99.901813], \n",
    "    'Missouri': [37.964253,-91.831833], \n",
    "    'Birmingham-Hoover, Alabama': [33.405387,-86.811378],\n",
    "    'Columbus, Ohio': [39.961176,-82.998794], \n",
    "    'Baltimore-Columbia-Towson, Maryland': [39.372594,-76.641271],\n",
    "    'Atlanta-Sandy Springs-Alpharetta, Georgia': [34.075376,-84.29409], \n",
    "    'California': [36.778261,-119.417932], \n",
    "    'Minnesota': [46.729553,-94.6859],   \n",
    "}\n",
    "\n",
    "df = {'City': [],\n",
    "     'Country': [],\n",
    "     'Latitude': [],\n",
    "     'Longitude': []}\n",
    "for coordinate, lat_long in coordinates.items():\n",
    "    df['City'].append(coordinate)\n",
    "    df['Country'].append('United States of America')\n",
    "    df['Latitude'].append(lat_long[0])\n",
    "    df['Longitude'].append(lat_long[1])  \n",
    "df = pd.DataFrame(df);\n",
    "\n",
    "gdf = geopandas.GeoDataFrame(\n",
    "    df, geometry=geopandas.points_from_xy(df.Longitude, df.Latitude))\n",
    "\n",
    "gdf.head()"
   ]
  },
  {
   "cell_type": "code",
   "execution_count": 9,
   "metadata": {},
   "outputs": [
    {
     "data": {
      "image/png": "[encoded data removed]",
      "text/plain": [
       "<Figure size 432x288 with 1 Axes>"
      ]
     },
     "metadata": {
      "needs_background": "light"
     },
     "output_type": "display_data"
    }
   ],
   "source": [
    "world = geopandas.read_file(geopandas.datasets.get_path('naturalearth_lowres'))\n",
    "\n",
    "# We restrict to the United States of America.\n",
    "ax = world[world.name == 'United States of America'].plot(\n",
    "    color='white', edgecolor='black')\n",
    "\n",
    "# We can now plot our ``GeoDataFrame``.\n",
    "gdf.plot(ax=ax, color='red')\n",
    "\n",
    "plt.show()"
   ]
  },
  {
   "cell_type": "markdown",
   "metadata": {},
   "source": [
    "# Result\n",
    "The data seems to represent both urban and rural places, places with low and high population counts so it is representative for the most part. However we must not forget that the survey was voluntary and so the data does hold a voluntary response bias. Nevertheless, we proceed with our analysis"
   ]
  },
  {
   "cell_type": "markdown",
   "metadata": {},
   "source": [
    "---"
   ]
  },
  {
   "cell_type": "markdown",
   "metadata": {},
   "source": [
    "# Questions of Interest\n",
    "\n",
    "## SOC3A\n",
    "In the past month, how often did you communicate with friends and family by phone, text, email, app,\n",
    "or using the Internet? \n",
    "\n",
    "## SOC3B\n",
    "During a typical month prior to March 1, 2020, when COVID-19 began spreading in the United States,\n",
    "how often did you communicate with friends and family by phone, text, email, app, or using the\n",
    "Internet?`"
   ]
  },
  {
   "cell_type": "code",
   "execution_count": 10,
   "metadata": {},
   "outputs": [
    {
     "data": {
      "text/plain": [
       "(1) Basically every day    4163\n",
       "(2) A few times a week     2434\n",
       "(3) A few times a month     708\n",
       "(4) Once a month            116\n",
       "(5) Not at all               41\n",
       "(98) SKIPPED ON WEB          25\n",
       "(77) Not sure                18\n",
       "Name: SOC3B, dtype: int64"
      ]
     },
     "execution_count": 10,
     "metadata": {},
     "output_type": "execute_result"
    }
   ],
   "source": [
    "june_covid_impact['SOC3B'].value_counts()"
   ]
  },
  {
   "cell_type": "code",
   "execution_count": 11,
   "metadata": {},
   "outputs": [
    {
     "data": {
      "text/plain": [
       "(1) Basically every day    4940\n",
       "(2) A few times a week     1908\n",
       "(3) A few times a month     463\n",
       "(4) Once a month             88\n",
       "(5) Not at all               48\n",
       "(98) SKIPPED ON WEB          45\n",
       "(77) Not sure                13\n",
       "Name: SOC3A, dtype: int64"
      ]
     },
     "execution_count": 11,
     "metadata": {},
     "output_type": "execute_result"
    }
   ],
   "source": [
    "june_covid_impact['SOC3A'].value_counts()"
   ]
  },
  {
   "cell_type": "markdown",
   "metadata": {},
   "source": [
    "### Quick Observation\n",
    "It appears that the pandemic has increased the daily communication of friends and family while decreasing the number of people who contacted their friends and family weekly/monthly. In other words, there is more daily communication and less weekly/monthly communication."
   ]
  },
  {
   "cell_type": "markdown",
   "metadata": {},
   "source": [
    "We create a pivot table to analyze data between months"
   ]
  },
  {
   "cell_type": "code",
   "execution_count": 12,
   "metadata": {},
   "outputs": [],
   "source": [
    "april_covid_impact['month'] = 'april'\n",
    "may_covid_impact['month'] = 'may'\n",
    "june_covid_impact['month'] = 'june'\n",
    "\n",
    "covid_impact = pd.concat([april_covid_impact, may_covid_impact, june_covid_impact], ignore_index=True, sort=False)\n",
    "covid_impact = covid_impact.dropna(axis=1, how='all')\n",
    "\n",
    "covid_impact['sum_col'] = 1"
   ]
  },
  {
   "cell_type": "code",
   "execution_count": 13,
   "metadata": {},
   "outputs": [
    {
     "data": {
      "text/html": [
       "<div>\n",
       "<style scoped>\n",
       "    .dataframe tbody tr th:only-of-type {\n",
       "        vertical-align: middle;\n",
       "    }\n",
       "\n",
       "    .dataframe tbody tr th {\n",
       "        vertical-align: top;\n",
       "    }\n",
       "\n",
       "    .dataframe thead th {\n",
       "        text-align: right;\n",
       "    }\n",
       "</style>\n",
       "<table border=\"1\" class=\"dataframe\">\n",
       "  <thead>\n",
       "    <tr style=\"text-align: right;\">\n",
       "      <th></th>\n",
       "      <th>results</th>\n",
       "      <th>month</th>\n",
       "      <th>sum_col</th>\n",
       "      <th>SOC</th>\n",
       "    </tr>\n",
       "  </thead>\n",
       "  <tbody>\n",
       "    <tr>\n",
       "      <td>0</td>\n",
       "      <td>(1) Basically every day</td>\n",
       "      <td>april</td>\n",
       "      <td>1</td>\n",
       "      <td>3A</td>\n",
       "    </tr>\n",
       "    <tr>\n",
       "      <td>1</td>\n",
       "      <td>(1) Basically every day</td>\n",
       "      <td>april</td>\n",
       "      <td>1</td>\n",
       "      <td>3A</td>\n",
       "    </tr>\n",
       "    <tr>\n",
       "      <td>2</td>\n",
       "      <td>(1) Basically every day</td>\n",
       "      <td>april</td>\n",
       "      <td>1</td>\n",
       "      <td>3A</td>\n",
       "    </tr>\n",
       "    <tr>\n",
       "      <td>3</td>\n",
       "      <td>(1) Basically every day</td>\n",
       "      <td>april</td>\n",
       "      <td>1</td>\n",
       "      <td>3A</td>\n",
       "    </tr>\n",
       "    <tr>\n",
       "      <td>4</td>\n",
       "      <td>(1) Basically every day</td>\n",
       "      <td>april</td>\n",
       "      <td>1</td>\n",
       "      <td>3A</td>\n",
       "    </tr>\n",
       "  </tbody>\n",
       "</table>\n",
       "</div>"
      ],
      "text/plain": [
       "                   results  month  sum_col SOC\n",
       "0  (1) Basically every day  april        1  3A\n",
       "1  (1) Basically every day  april        1  3A\n",
       "2  (1) Basically every day  april        1  3A\n",
       "3  (1) Basically every day  april        1  3A\n",
       "4  (1) Basically every day  april        1  3A"
      ]
     },
     "execution_count": 13,
     "metadata": {},
     "output_type": "execute_result"
    }
   ],
   "source": [
    "covid_soc3a = covid_impact[['SOC3A', 'month', 'sum_col']].copy()\n",
    "covid_soc3a['SOC'] = '3A'\n",
    "covid_soc3a = covid_soc3a.rename(columns={'SOC3A':'results'})\n",
    "\n",
    "covid_soc3b = covid_impact[['SOC3B', 'month', 'sum_col']].copy()\n",
    "covid_soc3b['SOC'] = '3B'\n",
    "covid_soc3b = covid_soc3b.rename(columns={'SOC3B':'results'})\n",
    "\n",
    "covid_soc = pd.concat([covid_soc3a, covid_soc3b], ignore_index=True)\n",
    "covid_soc.head()"
   ]
  },
  {
   "cell_type": "code",
   "execution_count": 14,
   "metadata": {},
   "outputs": [
    {
     "data": {
      "text/html": [
       "<div>\n",
       "<style scoped>\n",
       "    .dataframe tbody tr th:only-of-type {\n",
       "        vertical-align: middle;\n",
       "    }\n",
       "\n",
       "    .dataframe tbody tr th {\n",
       "        vertical-align: top;\n",
       "    }\n",
       "\n",
       "    .dataframe thead th {\n",
       "        text-align: right;\n",
       "    }\n",
       "</style>\n",
       "<table border=\"1\" class=\"dataframe\">\n",
       "  <thead>\n",
       "    <tr style=\"text-align: right;\">\n",
       "      <th></th>\n",
       "      <th>results</th>\n",
       "      <th>(1) Basically every day</th>\n",
       "      <th>(2) A few times a week</th>\n",
       "      <th>(3) A few times a month</th>\n",
       "      <th>(4) Once a month</th>\n",
       "      <th>(5) Not at all</th>\n",
       "      <th>(77) Not sure</th>\n",
       "      <th>(98) SKIPPED ON WEB</th>\n",
       "    </tr>\n",
       "    <tr>\n",
       "      <th>month</th>\n",
       "      <th>SOC</th>\n",
       "      <th></th>\n",
       "      <th></th>\n",
       "      <th></th>\n",
       "      <th></th>\n",
       "      <th></th>\n",
       "      <th></th>\n",
       "      <th></th>\n",
       "    </tr>\n",
       "  </thead>\n",
       "  <tbody>\n",
       "    <tr>\n",
       "      <td rowspan=\"2\" valign=\"top\">april</td>\n",
       "      <td>3A</td>\n",
       "      <td>5960</td>\n",
       "      <td>2153</td>\n",
       "      <td>471</td>\n",
       "      <td>98</td>\n",
       "      <td>45</td>\n",
       "      <td>8</td>\n",
       "      <td>55</td>\n",
       "    </tr>\n",
       "    <tr>\n",
       "      <td>3B</td>\n",
       "      <td>4688</td>\n",
       "      <td>3002</td>\n",
       "      <td>855</td>\n",
       "      <td>150</td>\n",
       "      <td>35</td>\n",
       "      <td>24</td>\n",
       "      <td>36</td>\n",
       "    </tr>\n",
       "    <tr>\n",
       "      <td rowspan=\"2\" valign=\"top\">june</td>\n",
       "      <td>3A</td>\n",
       "      <td>4940</td>\n",
       "      <td>1908</td>\n",
       "      <td>463</td>\n",
       "      <td>88</td>\n",
       "      <td>48</td>\n",
       "      <td>13</td>\n",
       "      <td>45</td>\n",
       "    </tr>\n",
       "    <tr>\n",
       "      <td>3B</td>\n",
       "      <td>4163</td>\n",
       "      <td>2434</td>\n",
       "      <td>708</td>\n",
       "      <td>116</td>\n",
       "      <td>41</td>\n",
       "      <td>18</td>\n",
       "      <td>25</td>\n",
       "    </tr>\n",
       "    <tr>\n",
       "      <td rowspan=\"2\" valign=\"top\">may</td>\n",
       "      <td>3A</td>\n",
       "      <td>5961</td>\n",
       "      <td>2225</td>\n",
       "      <td>574</td>\n",
       "      <td>83</td>\n",
       "      <td>57</td>\n",
       "      <td>15</td>\n",
       "      <td>59</td>\n",
       "    </tr>\n",
       "    <tr>\n",
       "      <td>3B</td>\n",
       "      <td>4804</td>\n",
       "      <td>2994</td>\n",
       "      <td>941</td>\n",
       "      <td>146</td>\n",
       "      <td>42</td>\n",
       "      <td>22</td>\n",
       "      <td>25</td>\n",
       "    </tr>\n",
       "  </tbody>\n",
       "</table>\n",
       "</div>"
      ],
      "text/plain": [
       "results    (1) Basically every day  (2) A few times a week  \\\n",
       "month SOC                                                    \n",
       "april 3A                      5960                    2153   \n",
       "      3B                      4688                    3002   \n",
       "june  3A                      4940                    1908   \n",
       "      3B                      4163                    2434   \n",
       "may   3A                      5961                    2225   \n",
       "      3B                      4804                    2994   \n",
       "\n",
       "results    (3) A few times a month  (4) Once a month  (5) Not at all  \\\n",
       "month SOC                                                              \n",
       "april 3A                       471                98              45   \n",
       "      3B                       855               150              35   \n",
       "june  3A                       463                88              48   \n",
       "      3B                       708               116              41   \n",
       "may   3A                       574                83              57   \n",
       "      3B                       941               146              42   \n",
       "\n",
       "results    (77) Not sure  (98) SKIPPED ON WEB  \n",
       "month SOC                                      \n",
       "april 3A               8                   55  \n",
       "      3B              24                   36  \n",
       "june  3A              13                   45  \n",
       "      3B              18                   25  \n",
       "may   3A              15                   59  \n",
       "      3B              22                   25  "
      ]
     },
     "execution_count": 14,
     "metadata": {},
     "output_type": "execute_result"
    }
   ],
   "source": [
    "pd.pivot_table(covid_soc, values='sum_col', index=['month', 'SOC'], columns=['results'], aggfunc=np.sum)"
   ]
  },
  {
   "cell_type": "code",
   "execution_count": 15,
   "metadata": {},
   "outputs": [
    {
     "data": {
      "text/html": [
       "<div>\n",
       "<style scoped>\n",
       "    .dataframe tbody tr th:only-of-type {\n",
       "        vertical-align: middle;\n",
       "    }\n",
       "\n",
       "    .dataframe tbody tr th {\n",
       "        vertical-align: top;\n",
       "    }\n",
       "\n",
       "    .dataframe thead th {\n",
       "        text-align: right;\n",
       "    }\n",
       "</style>\n",
       "<table border=\"1\" class=\"dataframe\">\n",
       "  <thead>\n",
       "    <tr style=\"text-align: right;\">\n",
       "      <th>results</th>\n",
       "      <th>(1) Basically every day</th>\n",
       "      <th>(2) A few times a week</th>\n",
       "      <th>(3) A few times a month</th>\n",
       "      <th>(4) Once a month</th>\n",
       "      <th>(5) Not at all</th>\n",
       "      <th>(77) Not sure</th>\n",
       "      <th>(98) SKIPPED ON WEB</th>\n",
       "    </tr>\n",
       "    <tr>\n",
       "      <th>SOC</th>\n",
       "      <th></th>\n",
       "      <th></th>\n",
       "      <th></th>\n",
       "      <th></th>\n",
       "      <th></th>\n",
       "      <th></th>\n",
       "      <th></th>\n",
       "    </tr>\n",
       "  </thead>\n",
       "  <tbody>\n",
       "    <tr>\n",
       "      <td>3A</td>\n",
       "      <td>16861</td>\n",
       "      <td>6286</td>\n",
       "      <td>1508</td>\n",
       "      <td>269</td>\n",
       "      <td>150</td>\n",
       "      <td>36</td>\n",
       "      <td>159</td>\n",
       "    </tr>\n",
       "    <tr>\n",
       "      <td>3B</td>\n",
       "      <td>13655</td>\n",
       "      <td>8430</td>\n",
       "      <td>2504</td>\n",
       "      <td>412</td>\n",
       "      <td>118</td>\n",
       "      <td>64</td>\n",
       "      <td>86</td>\n",
       "    </tr>\n",
       "  </tbody>\n",
       "</table>\n",
       "</div>"
      ],
      "text/plain": [
       "results  (1) Basically every day  (2) A few times a week  \\\n",
       "SOC                                                        \n",
       "3A                         16861                    6286   \n",
       "3B                         13655                    8430   \n",
       "\n",
       "results  (3) A few times a month  (4) Once a month  (5) Not at all  \\\n",
       "SOC                                                                  \n",
       "3A                          1508               269             150   \n",
       "3B                          2504               412             118   \n",
       "\n",
       "results  (77) Not sure  (98) SKIPPED ON WEB  \n",
       "SOC                                          \n",
       "3A                  36                  159  \n",
       "3B                  64                   86  "
      ]
     },
     "execution_count": 15,
     "metadata": {},
     "output_type": "execute_result"
    }
   ],
   "source": [
    "pd.pivot_table(covid_soc, values='sum_col', index=['SOC'], columns=['results'], aggfunc=np.sum)"
   ]
  },
  {
   "cell_type": "code",
   "execution_count": 16,
   "metadata": {},
   "outputs": [
    {
     "data": {
      "image/png": "[encoded data removed]",
      "text/plain": [
       "<Figure size 432x720 with 3 Axes>"
      ]
     },
     "metadata": {
      "needs_background": "light"
     },
     "output_type": "display_data"
    }
   ],
   "source": [
    "months = covid_soc['month'].unique()\n",
    "fig, axes = plt.subplots(len(months), 1, figsize=(6, 10))\n",
    "\n",
    "for i, ax in enumerate(axes):\n",
    "    df = covid_soc[covid_soc['month'] == months[i]]\n",
    "    sns.countplot(data=df, y='results', hue='SOC', ax=ax)\n",
    "    ax.set_title(months[i], fontsize=15)\n",
    "    ax.set_ylabel('Answers', fontsize=15)\n",
    "    ax.set_xlabel('Count', fontsize=15)\n",
    "plt.tight_layout()"
   ]
  },
  {
   "cell_type": "markdown",
   "metadata": {},
   "source": [
    "Note: All months seem to follow the same pattern"
   ]
  },
  {
   "cell_type": "code",
   "execution_count": 17,
   "metadata": {},
   "outputs": [
    {
     "data": {
      "text/plain": [
       "<matplotlib.axes._subplots.AxesSubplot at 0x25cdf581d48>"
      ]
     },
     "execution_count": 17,
     "metadata": {},
     "output_type": "execute_result"
    },
    {
     "data": {
      "image/png": "[encoded data removed]",
      "text/plain": [
       "<Figure size 432x288 with 1 Axes>"
      ]
     },
     "metadata": {
      "needs_background": "light"
     },
     "output_type": "display_data"
    }
   ],
   "source": [
    "sns.countplot(data=covid_soc, y='results', hue='SOC', palette=\"pastel\", edgecolor=\".6\")"
   ]
  },
  {
   "cell_type": "markdown",
   "metadata": {},
   "source": [
    "# Conclusion\n",
    "From the data we can conclude that during the pandemic, the weekly and monthly online communication amongst friends and family decreased but the daily online communication between friends and family has increased. In other words, during the pandemic, online communication is playing a vital role in keeping the community connected.\n",
    "\n",
    "Furthermore, if before the pandemic people were connecting with their friends less frequently, then we can also argue that the virus has brought people closer together via more daily messaging. In conclusion, social distancing is in fact building communities, not destroying them."
   ]
  },
  {
   "cell_type": "markdown",
   "metadata": {},
   "source": [
    "---"
   ]
  },
  {
   "cell_type": "markdown",
   "metadata": {},
   "source": [
    "# Source\n",
    "https://data.world/associatedpress/covid-impact-survey-public-data/"
   ]
  }
 ],
 "metadata": {
  "kernelspec": {
   "display_name": "Python 3",
   "language": "python",
   "name": "python3"
  },
  "language_info": {
   "codemirror_mode": {
    "name": "ipython",
    "version": 3
   },
   "file_extension": ".py",
   "mimetype": "text/x-python",
   "name": "python",
   "nbconvert_exporter": "python",
   "pygments_lexer": "ipython3",
   "version": "3.7.4"
  }
 },
 "nbformat": 4,
 "nbformat_minor": 2
}
